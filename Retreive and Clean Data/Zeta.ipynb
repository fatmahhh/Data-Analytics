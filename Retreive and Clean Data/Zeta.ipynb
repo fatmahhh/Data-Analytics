{
 "cells": [
  {
   "cell_type": "markdown",
   "metadata": {
    "ExecuteTime": {
     "end_time": "2022-04-26T14:32:56.204562Z",
     "start_time": "2022-04-26T14:32:55.489319Z"
    }
   },
   "source": [
    "# importing necessary libraries"
   ]
  },
  {
   "cell_type": "code",
   "execution_count": null,
   "metadata": {},
   "outputs": [],
   "source": [
    "import pandas as pd \n",
    "import numpy as np"
   ]
  },
  {
   "cell_type": "markdown",
   "metadata": {},
   "source": [
    "# reading dataset "
   ]
  },
  {
   "cell_type": "code",
   "execution_count": 17,
   "metadata": {
    "ExecuteTime": {
     "end_time": "2022-04-26T14:42:44.968409Z",
     "start_time": "2022-04-26T14:42:44.834493Z"
    },
    "scrolled": true
   },
   "outputs": [
    {
     "data": {
      "text/html": [
       "<div>\n",
       "<style scoped>\n",
       "    .dataframe tbody tr th:only-of-type {\n",
       "        vertical-align: middle;\n",
       "    }\n",
       "\n",
       "    .dataframe tbody tr th {\n",
       "        vertical-align: top;\n",
       "    }\n",
       "\n",
       "    .dataframe thead th {\n",
       "        text-align: right;\n",
       "    }\n",
       "</style>\n",
       "<table border=\"1\" class=\"dataframe\">\n",
       "  <thead>\n",
       "    <tr style=\"text-align: right;\">\n",
       "      <th></th>\n",
       "      <th>zcta</th>\n",
       "      <th>sex</th>\n",
       "      <th>meanage</th>\n",
       "      <th>meaneducation</th>\n",
       "      <th>meanemployment</th>\n",
       "      <th>meanhouseholdincome</th>\n",
       "    </tr>\n",
       "  </thead>\n",
       "  <tbody>\n",
       "    <tr>\n",
       "      <th>0</th>\n",
       "      <td>601</td>\n",
       "      <td>F</td>\n",
       "      <td>36.743057</td>\n",
       "      <td>10.609348</td>\n",
       "      <td>0.623969</td>\n",
       "      <td>17110.989011</td>\n",
       "    </tr>\n",
       "    <tr>\n",
       "      <th>1</th>\n",
       "      <td>602</td>\n",
       "      <td>F</td>\n",
       "      <td>37.403347</td>\n",
       "      <td>10.912822</td>\n",
       "      <td>0.740029</td>\n",
       "      <td>18533.843764</td>\n",
       "    </tr>\n",
       "    <tr>\n",
       "      <th>2</th>\n",
       "      <td>601</td>\n",
       "      <td>M</td>\n",
       "      <td>35.825543</td>\n",
       "      <td>10.513826</td>\n",
       "      <td>1.061615</td>\n",
       "      <td>17110.989011</td>\n",
       "    </tr>\n",
       "    <tr>\n",
       "      <th>3</th>\n",
       "      <td>602</td>\n",
       "      <td>M</td>\n",
       "      <td>35.935740</td>\n",
       "      <td>10.692618</td>\n",
       "      <td>1.343883</td>\n",
       "      <td>18533.843764</td>\n",
       "    </tr>\n",
       "    <tr>\n",
       "      <th>4</th>\n",
       "      <td>603</td>\n",
       "      <td>F</td>\n",
       "      <td>38.640220</td>\n",
       "      <td>10.978606</td>\n",
       "      <td>0.738380</td>\n",
       "      <td>19545.957947</td>\n",
       "    </tr>\n",
       "    <tr>\n",
       "      <th>5</th>\n",
       "      <td>604</td>\n",
       "      <td>F</td>\n",
       "      <td>31.809427</td>\n",
       "      <td>13.913371</td>\n",
       "      <td>1.085855</td>\n",
       "      <td>40784.490741</td>\n",
       "    </tr>\n",
       "    <tr>\n",
       "      <th>6</th>\n",
       "      <td>603</td>\n",
       "      <td>M</td>\n",
       "      <td>37.084675</td>\n",
       "      <td>11.002244</td>\n",
       "      <td>1.153833</td>\n",
       "      <td>19545.957947</td>\n",
       "    </tr>\n",
       "    <tr>\n",
       "      <th>7</th>\n",
       "      <td>604</td>\n",
       "      <td>M</td>\n",
       "      <td>31.104254</td>\n",
       "      <td>14.264654</td>\n",
       "      <td>1.602559</td>\n",
       "      <td>40784.490741</td>\n",
       "    </tr>\n",
       "    <tr>\n",
       "      <th>8</th>\n",
       "      <td>617</td>\n",
       "      <td>F</td>\n",
       "      <td>36.623525</td>\n",
       "      <td>10.868303</td>\n",
       "      <td>0.801264</td>\n",
       "      <td>19109.251779</td>\n",
       "    </tr>\n",
       "    <tr>\n",
       "      <th>9</th>\n",
       "      <td>606</td>\n",
       "      <td>F</td>\n",
       "      <td>35.990794</td>\n",
       "      <td>10.097773</td>\n",
       "      <td>0.628753</td>\n",
       "      <td>17496.526055</td>\n",
       "    </tr>\n",
       "  </tbody>\n",
       "</table>\n",
       "</div>"
      ],
      "text/plain": [
       "   zcta sex    meanage  meaneducation  meanemployment  meanhouseholdincome\n",
       "0   601   F  36.743057      10.609348        0.623969         17110.989011\n",
       "1   602   F  37.403347      10.912822        0.740029         18533.843764\n",
       "2   601   M  35.825543      10.513826        1.061615         17110.989011\n",
       "3   602   M  35.935740      10.692618        1.343883         18533.843764\n",
       "4   603   F  38.640220      10.978606        0.738380         19545.957947\n",
       "5   604   F  31.809427      13.913371        1.085855         40784.490741\n",
       "6   603   M  37.084675      11.002244        1.153833         19545.957947\n",
       "7   604   M  31.104254      14.264654        1.602559         40784.490741\n",
       "8   617   F  36.623525      10.868303        0.801264         19109.251779\n",
       "9   606   F  35.990794      10.097773        0.628753         17496.526055"
      ]
     },
     "execution_count": 17,
     "metadata": {},
     "output_type": "execute_result"
    }
   ],
   "source": [
    "data=pd.read_csv(\"zeta.csv\")\n",
    "data.head(10)"
   ]
  },
  {
   "cell_type": "markdown",
   "metadata": {},
   "source": [
    "# Analysing the table "
   ]
  },
  {
   "cell_type": "code",
   "execution_count": 11,
   "metadata": {
    "ExecuteTime": {
     "end_time": "2022-04-26T14:36:41.087677Z",
     "start_time": "2022-04-26T14:36:41.021720Z"
    }
   },
   "outputs": [
    {
     "data": {
      "text/html": [
       "<div>\n",
       "<style scoped>\n",
       "    .dataframe tbody tr th:only-of-type {\n",
       "        vertical-align: middle;\n",
       "    }\n",
       "\n",
       "    .dataframe tbody tr th {\n",
       "        vertical-align: top;\n",
       "    }\n",
       "\n",
       "    .dataframe thead th {\n",
       "        text-align: right;\n",
       "    }\n",
       "</style>\n",
       "<table border=\"1\" class=\"dataframe\">\n",
       "  <thead>\n",
       "    <tr style=\"text-align: right;\">\n",
       "      <th></th>\n",
       "      <th>zcta</th>\n",
       "      <th>meanage</th>\n",
       "      <th>meaneducation</th>\n",
       "      <th>meanemployment</th>\n",
       "      <th>meanhouseholdincome</th>\n",
       "    </tr>\n",
       "  </thead>\n",
       "  <tbody>\n",
       "    <tr>\n",
       "      <th>count</th>\n",
       "      <td>64076.000000</td>\n",
       "      <td>64076.000000</td>\n",
       "      <td>64076.000000</td>\n",
       "      <td>64076.000000</td>\n",
       "      <td>64076.000000</td>\n",
       "    </tr>\n",
       "    <tr>\n",
       "      <th>mean</th>\n",
       "      <td>49800.628410</td>\n",
       "      <td>39.675740</td>\n",
       "      <td>12.526231</td>\n",
       "      <td>1.787177</td>\n",
       "      <td>48245.235116</td>\n",
       "    </tr>\n",
       "    <tr>\n",
       "      <th>std</th>\n",
       "      <td>27344.886318</td>\n",
       "      <td>6.009747</td>\n",
       "      <td>1.367457</td>\n",
       "      <td>0.421324</td>\n",
       "      <td>18031.578348</td>\n",
       "    </tr>\n",
       "    <tr>\n",
       "      <th>min</th>\n",
       "      <td>601.000000</td>\n",
       "      <td>0.000000</td>\n",
       "      <td>0.000000</td>\n",
       "      <td>0.000000</td>\n",
       "      <td>0.000000</td>\n",
       "    </tr>\n",
       "    <tr>\n",
       "      <th>25%</th>\n",
       "      <td>27305.000000</td>\n",
       "      <td>36.651686</td>\n",
       "      <td>11.907867</td>\n",
       "      <td>1.541530</td>\n",
       "      <td>37641.502519</td>\n",
       "    </tr>\n",
       "    <tr>\n",
       "      <th>50%</th>\n",
       "      <td>49909.000000</td>\n",
       "      <td>39.299358</td>\n",
       "      <td>12.455349</td>\n",
       "      <td>1.813328</td>\n",
       "      <td>44163.477129</td>\n",
       "    </tr>\n",
       "    <tr>\n",
       "      <th>75%</th>\n",
       "      <td>72007.000000</td>\n",
       "      <td>42.275524</td>\n",
       "      <td>13.106288</td>\n",
       "      <td>2.076923</td>\n",
       "      <td>54372.864521</td>\n",
       "    </tr>\n",
       "    <tr>\n",
       "      <th>max</th>\n",
       "      <td>99950.000000</td>\n",
       "      <td>137.076923</td>\n",
       "      <td>19.000000</td>\n",
       "      <td>3.000000</td>\n",
       "      <td>250000.000000</td>\n",
       "    </tr>\n",
       "  </tbody>\n",
       "</table>\n",
       "</div>"
      ],
      "text/plain": [
       "               zcta       meanage  meaneducation  meanemployment  \\\n",
       "count  64076.000000  64076.000000   64076.000000    64076.000000   \n",
       "mean   49800.628410     39.675740      12.526231        1.787177   \n",
       "std    27344.886318      6.009747       1.367457        0.421324   \n",
       "min      601.000000      0.000000       0.000000        0.000000   \n",
       "25%    27305.000000     36.651686      11.907867        1.541530   \n",
       "50%    49909.000000     39.299358      12.455349        1.813328   \n",
       "75%    72007.000000     42.275524      13.106288        2.076923   \n",
       "max    99950.000000    137.076923      19.000000        3.000000   \n",
       "\n",
       "       meanhouseholdincome  \n",
       "count         64076.000000  \n",
       "mean          48245.235116  \n",
       "std           18031.578348  \n",
       "min               0.000000  \n",
       "25%           37641.502519  \n",
       "50%           44163.477129  \n",
       "75%           54372.864521  \n",
       "max          250000.000000  "
      ]
     },
     "execution_count": 11,
     "metadata": {},
     "output_type": "execute_result"
    }
   ],
   "source": [
    "data.describe()"
   ]
  },
  {
   "cell_type": "markdown",
   "metadata": {},
   "source": [
    "# Getting Columns names"
   ]
  },
  {
   "cell_type": "code",
   "execution_count": 18,
   "metadata": {
    "ExecuteTime": {
     "end_time": "2022-04-26T14:43:55.408134Z",
     "start_time": "2022-04-26T14:43:55.396139Z"
    }
   },
   "outputs": [
    {
     "data": {
      "text/plain": [
       "['zcta',\n",
       " 'sex',\n",
       " 'meanage',\n",
       " 'meaneducation',\n",
       " 'meanemployment',\n",
       " 'meanhouseholdincome']"
      ]
     },
     "execution_count": 18,
     "metadata": {},
     "output_type": "execute_result"
    }
   ],
   "source": [
    "data.columns.to_list()"
   ]
  },
  {
   "cell_type": "markdown",
   "metadata": {},
   "source": [
    "# Getting number of rows"
   ]
  },
  {
   "cell_type": "code",
   "execution_count": 19,
   "metadata": {
    "ExecuteTime": {
     "end_time": "2022-04-26T14:44:30.844888Z",
     "start_time": "2022-04-26T14:44:30.830895Z"
    }
   },
   "outputs": [
    {
     "data": {
      "text/plain": [
       "64076"
      ]
     },
     "execution_count": 19,
     "metadata": {},
     "output_type": "execute_result"
    }
   ],
   "source": [
    "data.shape[0]"
   ]
  },
  {
   "cell_type": "markdown",
   "metadata": {},
   "source": [
    "# check if there are duplicated rows"
   ]
  },
  {
   "cell_type": "code",
   "execution_count": 23,
   "metadata": {
    "ExecuteTime": {
     "end_time": "2022-04-26T14:49:53.887607Z",
     "start_time": "2022-04-26T14:49:53.811801Z"
    }
   },
   "outputs": [
    {
     "data": {
      "text/html": [
       "<div>\n",
       "<style scoped>\n",
       "    .dataframe tbody tr th:only-of-type {\n",
       "        vertical-align: middle;\n",
       "    }\n",
       "\n",
       "    .dataframe tbody tr th {\n",
       "        vertical-align: top;\n",
       "    }\n",
       "\n",
       "    .dataframe thead th {\n",
       "        text-align: right;\n",
       "    }\n",
       "</style>\n",
       "<table border=\"1\" class=\"dataframe\">\n",
       "  <thead>\n",
       "    <tr style=\"text-align: right;\">\n",
       "      <th></th>\n",
       "      <th>zcta</th>\n",
       "      <th>sex</th>\n",
       "      <th>meanage</th>\n",
       "      <th>meaneducation</th>\n",
       "      <th>meanemployment</th>\n",
       "      <th>meanhouseholdincome</th>\n",
       "    </tr>\n",
       "  </thead>\n",
       "  <tbody>\n",
       "  </tbody>\n",
       "</table>\n",
       "</div>"
      ],
      "text/plain": [
       "Empty DataFrame\n",
       "Columns: [zcta, sex, meanage, meaneducation, meanemployment, meanhouseholdincome]\n",
       "Index: []"
      ]
     },
     "execution_count": 23,
     "metadata": {},
     "output_type": "execute_result"
    }
   ],
   "source": [
    " data[data.duplicated()]"
   ]
  },
  {
   "cell_type": "raw",
   "metadata": {},
   "source": [
    "# so from 6 we can say that there are no duplicate rows "
   ]
  },
  {
   "cell_type": "code",
   "execution_count": null,
   "metadata": {},
   "outputs": [],
   "source": []
  }
 ],
 "metadata": {
  "kernelspec": {
   "display_name": "Python 3",
   "language": "python",
   "name": "python3"
  },
  "language_info": {
   "codemirror_mode": {
    "name": "ipython",
    "version": 3
   },
   "file_extension": ".py",
   "mimetype": "text/x-python",
   "name": "python",
   "nbconvert_exporter": "python",
   "pygments_lexer": "ipython3",
   "version": "3.7.6"
  },
  "toc": {
   "base_numbering": 1,
   "nav_menu": {},
   "number_sections": true,
   "sideBar": true,
   "skip_h1_title": false,
   "title_cell": "Table of Contents",
   "title_sidebar": "Contents",
   "toc_cell": false,
   "toc_position": {},
   "toc_section_display": true,
   "toc_window_display": false
  },
  "varInspector": {
   "cols": {
    "lenName": 16,
    "lenType": 16,
    "lenVar": 40
   },
   "kernels_config": {
    "python": {
     "delete_cmd_postfix": "",
     "delete_cmd_prefix": "del ",
     "library": "var_list.py",
     "varRefreshCmd": "print(var_dic_list())"
    },
    "r": {
     "delete_cmd_postfix": ") ",
     "delete_cmd_prefix": "rm(",
     "library": "var_list.r",
     "varRefreshCmd": "cat(var_dic_list()) "
    }
   },
   "types_to_exclude": [
    "module",
    "function",
    "builtin_function_or_method",
    "instance",
    "_Feature"
   ],
   "window_display": false
  }
 },
 "nbformat": 4,
 "nbformat_minor": 4
}
